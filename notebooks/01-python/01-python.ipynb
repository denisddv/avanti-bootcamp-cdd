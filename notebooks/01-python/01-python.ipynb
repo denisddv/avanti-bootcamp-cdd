{
 "cells": [
  {
   "cell_type": "markdown",
   "id": "40e88eb0-fdd5-44e8-80bc-ed4ea03a794d",
   "metadata": {},
   "source": [
    "Crie um programa que leia dois números inteiros e imprima a soma, subtração, multiplicação e  divisão entre eles."
   ]
  },
  {
   "cell_type": "code",
   "execution_count": 1,
   "id": "bdb3faea-236b-4f8b-a70c-cbccb8b0aaee",
   "metadata": {},
   "outputs": [
    {
     "name": "stdin",
     "output_type": "stream",
     "text": [
      "Digite o primeiro número:  10\n",
      "Digite o segundo número:  20\n"
     ]
    },
    {
     "name": "stdout",
     "output_type": "stream",
     "text": [
      "10.0 + 20.0 = 30.0.\n",
      "\n",
      "10.0 - 20.0 = -10.0.\n",
      "\n",
      "10.0 * 20.0 =  200.00.\n",
      "\n",
      "10.0 / 20.0 =  0.50.\n",
      "\n"
     ]
    }
   ],
   "source": [
    "numero1 = float (input (\"Digite o primeiro número: \"))\n",
    "numero2 = float (input (\"Digite o segundo número: \"))\n",
    "\n",
    "soma = numero1 + numero2\n",
    "subtracao = numero1 - numero2\n",
    "multiplicacao = numero1 * numero2\n",
    "divisao = numero1 / numero2\n",
    "\n",
    "print(f\"{numero1} + {numero2} = {soma}.\\n\")\n",
    "print(f\"{numero1} - {numero2} = {subtracao}.\\n\")\n",
    "print(f\"{numero1} * {numero2} = {multiplicacao: .2f}.\\n\")\n",
    "print(f\"{numero1} / {numero2} = {divisao: .2f}.\\n\")"
   ]
  },
  {
   "cell_type": "markdown",
   "id": "734579c4-985d-43fd-8f2a-52026b1394a7",
   "metadata": {},
   "source": [
    "Escreva um programa que calcule  a área de um círculo, solicitando o raio para o usuário. "
   ]
  },
  {
   "cell_type": "code",
   "execution_count": 2,
   "id": "a6c3acec-219f-4351-a076-096d2e0877ee",
   "metadata": {},
   "outputs": [
    {
     "name": "stdin",
     "output_type": "stream",
     "text": [
      "Digite o raio do círculo:  54\n"
     ]
    },
    {
     "name": "stdout",
     "output_type": "stream",
     "text": [
      "A área do círculo com raio 54.0 é: 9156.24\n"
     ]
    }
   ],
   "source": [
    "raio = float(input(\"Digite o raio do círculo: \"))\n",
    "\n",
    "area_circulo = 3.14 * (raio **2)\n",
    "\n",
    "print(f\"A área do círculo com raio {raio} é: {area_circulo:.2f}\")"
   ]
  },
  {
   "cell_type": "markdown",
   "id": "dce58e83-8575-4365-8231-a57eed0ea162",
   "metadata": {},
   "source": [
    "Escreva um programa que solicite a idade do usuário e imprima se ele é menor de idade(menor que 18 anos) ou maior de idade."
   ]
  },
  {
   "cell_type": "code",
   "execution_count": 3,
   "id": "f1ff8075-66ae-4f5e-b01f-b8a8510af724",
   "metadata": {},
   "outputs": [
    {
     "name": "stdin",
     "output_type": "stream",
     "text": [
      "Digite a idade:  19\n"
     ]
    },
    {
     "name": "stdout",
     "output_type": "stream",
     "text": [
      "É maior de idade.\n"
     ]
    }
   ],
   "source": [
    "idade = int(input(\"Digite a idade: \"))\n",
    "\n",
    "if idade >= 18:\n",
    "    print(\"É maior de idade.\")\n",
    "else:\n",
    "    print(\"É menor de idade.\")        \n",
    "\n"
   ]
  },
  {
   "cell_type": "markdown",
   "id": "011f794f-0e89-4922-9989-b1cf10a7b22a",
   "metadata": {},
   "source": [
    "crie um programa que peça ao usuário para advinhar um número secreto entre 1 e 100. O programa deve fornecer dicas se o palpite do usuário é maior ou menor que o número secreto até que ele advinhe corretamente."
   ]
  },
  {
   "cell_type": "code",
   "execution_count": 5,
   "id": "002c1e67-aa5d-4237-a0c3-4d2b5e10a290",
   "metadata": {},
   "outputs": [
    {
     "name": "stdin",
     "output_type": "stream",
     "text": [
      "Digite o seu palpite:  50\n"
     ]
    },
    {
     "name": "stdout",
     "output_type": "stream",
     "text": [
      "O número secreto é maior do que 50.\n"
     ]
    },
    {
     "name": "stdin",
     "output_type": "stream",
     "text": [
      "Digite o seu palpite:  55\n"
     ]
    },
    {
     "name": "stdout",
     "output_type": "stream",
     "text": [
      "Você acertou! O número 55 é o número secreto.\n"
     ]
    }
   ],
   "source": [
    "numero_secreto = 55\n",
    "\n",
    "while True:\n",
    "    try:\n",
    "        palpite = int(input(\"Digite o seu palpite: \"))\n",
    "\n",
    "        if palpite == numero_secreto:\n",
    "            print(f\"Você acertou! O número {palpite} é o número secreto.\")\n",
    "            break \n",
    "        elif palpite < numero_secreto:\n",
    "            print(f\"O número secreto é maior do que {palpite}.\")\n",
    "        else:\n",
    "            print(f\"O número secreto é menor do que {palpite}.\")\n",
    "    except ValueError:\n",
    "        print(\"Por favor, digite um número válido.\")"
   ]
  },
  {
   "cell_type": "markdown",
   "id": "635a2daf-9db2-4428-91a2-9bb399122781",
   "metadata": {},
   "source": [
    "crie um programa que crie uma lista de 5 números inteiros e imprima os elementos dessa lista"
   ]
  },
  {
   "cell_type": "code",
   "execution_count": 7,
   "id": "68c973e5-0e68-4e57-85ed-0bef0f29fa1e",
   "metadata": {},
   "outputs": [
    {
     "name": "stdout",
     "output_type": "stream",
     "text": [
      "1\n",
      "2\n",
      "3\n",
      "4\n",
      "5\n"
     ]
    }
   ],
   "source": [
    "lista_numeros = [1, 2, 3, 4, 5]\n",
    "\n",
    "for numero in lista_numeros:\n",
    "    print(numero)"
   ]
  },
  {
   "cell_type": "markdown",
   "id": "34c20bef-ccdb-446e-89cc-58e988c083ab",
   "metadata": {},
   "source": [
    " Crie uma tupla com o nome de alguns animais, em seguida, peça para o usuário digitar o nome de um animal e verifique se ele está presente na tupla."
   ]
  },
  {
   "cell_type": "code",
   "execution_count": 8,
   "id": "0d8ddff6-fdd5-45b8-ae13-6cf069e2e5aa",
   "metadata": {},
   "outputs": [
    {
     "name": "stdin",
     "output_type": "stream",
     "text": [
      "Digite o nome de um animal gato\n"
     ]
    },
    {
     "name": "stdout",
     "output_type": "stream",
     "text": [
      "O animal está presente na Tupla\n"
     ]
    }
   ],
   "source": [
    "animais = (\"gato, cachorro, papaguaio\")\n",
    "\n",
    "animal_digitado = input(\"Digite o nome de um animal\").lower()\n",
    "\n",
    "if animal_digitado in animais:\n",
    "    print('O animal está presente na Tupla')\n",
    "else:\n",
    "    print('O animal não está presente na tupla')    "
   ]
  },
  {
   "cell_type": "markdown",
   "id": "034e97da-3a9b-42d6-b3e2-391e9429bafe",
   "metadata": {},
   "source": [
    " Escreva uma função que receba o nome de uma pessoa como argumento e imprima uma mensagem de saudação."
   ]
  },
  {
   "cell_type": "code",
   "execution_count": 9,
   "id": "da4a8053-56ff-4d46-ab06-464801ae092a",
   "metadata": {},
   "outputs": [],
   "source": [
    "def saudacao(nome):\n",
    "    \n",
    "    print(f\"Olá, {nome}!\")"
   ]
  },
  {
   "cell_type": "code",
   "execution_count": 10,
   "id": "955afbbb-89a8-4e88-9b66-bdeddc88b4f6",
   "metadata": {},
   "outputs": [
    {
     "name": "stdin",
     "output_type": "stream",
     "text": [
      "Digite o nome:  Denis\n"
     ]
    },
    {
     "name": "stdout",
     "output_type": "stream",
     "text": [
      "Olá, Denis!\n"
     ]
    }
   ],
   "source": [
    "nome = input('Digite o nome: ')\n",
    "saudacao(nome)"
   ]
  },
  {
   "cell_type": "markdown",
   "id": "1ef33142-341d-460c-8c90-379c8455a4af",
   "metadata": {},
   "source": [
    "Implemente um módulo com uma função que verifica se um número é primo."
   ]
  },
  {
   "cell_type": "code",
   "execution_count": 11,
   "id": "3714426f-82ce-4d42-8118-1618af6a48f2",
   "metadata": {},
   "outputs": [
    {
     "data": {
      "text/plain": [
       "False"
      ]
     },
     "execution_count": 11,
     "metadata": {},
     "output_type": "execute_result"
    }
   ],
   "source": [
    "def primo(n):\n",
    "    \n",
    "    if n <= 1:\n",
    "        return False\n",
    "    if n <= 3:\n",
    "        return True\n",
    "    if n % 2 == 0 or n % 3 == 0:\n",
    "        return False\n",
    "    i = 5\n",
    "    while i * i <= n:\n",
    "        if n % i == 0 or n % (i + 2) == 0:\n",
    "            return False\n",
    "        i += 6\n",
    "    return True\n",
    "\n",
    "n= 25\n",
    "primo(n)"
   ]
  },
  {
   "cell_type": "code",
   "execution_count": 13,
   "id": "d1d7b440-d3a9-4f5e-9409-a7660b4649c8",
   "metadata": {},
   "outputs": [],
   "source": [
    "conteudo = \"\"\"\n",
    "def teste_primo(n):\n",
    "    \n",
    "    if n <= 1:\n",
    "        return False\n",
    "    if n <= 3:\n",
    "        return True\n",
    "    if n % 2 == 0 or n % 3 == 0:\n",
    "        return False\n",
    "    i = 5\n",
    "    while i * i <= n:\n",
    "        if n % i == 0 or n % (i + 2) == 0:\n",
    "            return False\n",
    "        i += 6\n",
    "    return True\n",
    "\"\"\"\n",
    "# Criando o arqu\n",
    "with open('primo.py', 'w') as arquivo:\n",
    "    arquivo.write(conteudo)"
   ]
  },
  {
   "cell_type": "code",
   "execution_count": 15,
   "id": "1c76e781-48a4-4181-9373-8c45cbcf0d54",
   "metadata": {},
   "outputs": [],
   "source": [
    "import primo as pr"
   ]
  },
  {
   "cell_type": "code",
   "execution_count": 16,
   "id": "cd299c1d-82fa-4248-81c6-db512c312254",
   "metadata": {},
   "outputs": [
    {
     "name": "stdin",
     "output_type": "stream",
     "text": [
      "Digite um número:  15\n"
     ]
    },
    {
     "name": "stdout",
     "output_type": "stream",
     "text": [
      "15 não é um número primo.\n"
     ]
    }
   ],
   "source": [
    "numero = int(input(\"Digite um número: \"))\n",
    "if pr.teste_primo(numero):\n",
    "    print(f\"{numero} é um número primo!\")\n",
    "else:\n",
    "    print(f\"{numero} não é um número primo.\")"
   ]
  }
 ],
 "metadata": {
  "kernelspec": {
   "display_name": "Python 3 (ipykernel)",
   "language": "python",
   "name": "python3"
  },
  "language_info": {
   "codemirror_mode": {
    "name": "ipython",
    "version": 3
   },
   "file_extension": ".py",
   "mimetype": "text/x-python",
   "name": "python",
   "nbconvert_exporter": "python",
   "pygments_lexer": "ipython3",
   "version": "3.8.10"
  }
 },
 "nbformat": 4,
 "nbformat_minor": 5
}
